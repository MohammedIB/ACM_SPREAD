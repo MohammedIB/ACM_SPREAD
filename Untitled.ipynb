{
 "cells": [
  {
   "cell_type": "code",
   "execution_count": 23,
   "id": "812e9d55-ff7b-4f46-a694-d017ae49f2e4",
   "metadata": {},
   "outputs": [],
   "source": [
    "import pandas as pd\n",
    "import matplotlib.pyplot as plt\n",
    "\n",
    "def creer_courbe_spreads_fichier(fichier_excel, emetteur=None):\n",
    "    \"\"\"\n",
    "    Crée une courbe de spreads à partir d'un fichier Excel, en prenant la dernière émission par maturité.\n",
    "    \n",
    "    Args:\n",
    "        fichier_excel (str): chemin du fichier Excel.\n",
    "        emetteur (str, optional): Filtrer sur un émetteur spécifique si besoin.\n",
    "    \"\"\"\n",
    "\n",
    "    # Lecture du fichier\n",
    "    df = pd.read_excel(fichier_excel)\n",
    "\n",
    "    # Nettoyage\n",
    "    df['Emission'] = pd.to_datetime(df['Emission'])\n",
    "    df['Echeance'] = pd.to_datetime(df['Echeance'])\n",
    "    \n",
    "    # Nettoyer la colonne 'Spread' (retirer le %, remplacer la virgule par un point)\n",
    "    df['Spread'] = df['Spread'].astype(str).str.replace('%', '').str.replace(',', '.').astype(float)\n",
    "\n",
    "    # Harmoniser la maturité (ex: convertir \"52 SEM\" en années, ici 1 an)\n",
    "    def convertir_maturite(val):\n",
    "        if 'SEM' in val:\n",
    "            return 1  # 52 semaines ~ 1 an\n",
    "        else:\n",
    "            return int(val.split()[0])  # prendre le nombre d'années\n",
    "\n",
    "    df['Maturite_Num'] = df['Maturite'].apply(convertir_maturite)\n",
    "\n",
    "    # Filtrer sur l'émetteur si besoin\n",
    "    if emetteur:\n",
    "        df = df[df['Emetteur'] == emetteur]\n",
    "\n",
    "    # Trier par maturité et par date d'émission décroissante\n",
    "    df = df.sort_values(by=['Maturite_Num', 'Emission'], ascending=[True, False])\n",
    "\n",
    "    # Garder la dernière émission par maturité\n",
    "    df_latest = df.drop_duplicates(subset=['Maturite_Num'], keep='first')\n",
    "\n",
    "    # Trier pour la courbe\n",
    "    df_latest = df_latest.sort_values(by='Maturite_Num')\n",
    "\n",
    "    # Tracer la courbe\n",
    "    return df_latest"
   ]
  },
  {
   "cell_type": "code",
   "execution_count": 27,
   "id": "03f1ba49-930e-4929-ac07-e61926ed7351",
   "metadata": {},
   "outputs": [
    {
     "data": {
      "text/html": [
       "<div>\n",
       "<style scoped>\n",
       "    .dataframe tbody tr th:only-of-type {\n",
       "        vertical-align: middle;\n",
       "    }\n",
       "\n",
       "    .dataframe tbody tr th {\n",
       "        vertical-align: top;\n",
       "    }\n",
       "\n",
       "    .dataframe thead th {\n",
       "        text-align: right;\n",
       "    }\n",
       "</style>\n",
       "<table border=\"1\" class=\"dataframe\">\n",
       "  <thead>\n",
       "    <tr style=\"text-align: right;\">\n",
       "      <th></th>\n",
       "      <th>Code ISIN</th>\n",
       "      <th>Emetteur</th>\n",
       "      <th>Emission</th>\n",
       "      <th>Echeance</th>\n",
       "      <th>TF</th>\n",
       "      <th>Maturite</th>\n",
       "      <th>Spread</th>\n",
       "      <th>Maturite_Num</th>\n",
       "    </tr>\n",
       "  </thead>\n",
       "  <tbody>\n",
       "    <tr>\n",
       "      <th>1</th>\n",
       "      <td>152315</td>\n",
       "      <td>ATW</td>\n",
       "      <td>2025-04-27</td>\n",
       "      <td>2026-04-27</td>\n",
       "      <td>0.0251</td>\n",
       "      <td>52 SEM</td>\n",
       "      <td>0.0025</td>\n",
       "      <td>1</td>\n",
       "    </tr>\n",
       "    <tr>\n",
       "      <th>2</th>\n",
       "      <td>153054</td>\n",
       "      <td>ATW</td>\n",
       "      <td>2025-04-25</td>\n",
       "      <td>2027-04-25</td>\n",
       "      <td>0.0245</td>\n",
       "      <td>2 ANS</td>\n",
       "      <td>0.0030</td>\n",
       "      <td>2</td>\n",
       "    </tr>\n",
       "    <tr>\n",
       "      <th>4</th>\n",
       "      <td>152100</td>\n",
       "      <td>ATW</td>\n",
       "      <td>2025-04-27</td>\n",
       "      <td>2029-04-27</td>\n",
       "      <td>0.0258</td>\n",
       "      <td>4 ANS</td>\n",
       "      <td>0.0035</td>\n",
       "      <td>4</td>\n",
       "    </tr>\n",
       "    <tr>\n",
       "      <th>5</th>\n",
       "      <td>152101</td>\n",
       "      <td>ATW</td>\n",
       "      <td>2025-04-27</td>\n",
       "      <td>2030-04-27</td>\n",
       "      <td>0.0270</td>\n",
       "      <td>5 ANS</td>\n",
       "      <td>0.0045</td>\n",
       "      <td>5</td>\n",
       "    </tr>\n",
       "  </tbody>\n",
       "</table>\n",
       "</div>"
      ],
      "text/plain": [
       "   Code ISIN Emetteur   Emission   Echeance      TF Maturite  Spread  \\\n",
       "1     152315      ATW 2025-04-27 2026-04-27  0.0251   52 SEM  0.0025   \n",
       "2     153054      ATW 2025-04-25 2027-04-25  0.0245    2 ANS  0.0030   \n",
       "4     152100      ATW 2025-04-27 2029-04-27  0.0258    4 ANS  0.0035   \n",
       "5     152101      ATW 2025-04-27 2030-04-27  0.0270    5 ANS  0.0045   \n",
       "\n",
       "   Maturite_Num  \n",
       "1             1  \n",
       "2             2  \n",
       "4             4  \n",
       "5             5  "
      ]
     },
     "execution_count": 27,
     "metadata": {},
     "output_type": "execute_result"
    }
   ],
   "source": [
    "creer_courbe_spreads_fichier(\"Spreads.xlsx\",\"ATW\")"
   ]
  },
  {
   "cell_type": "code",
   "execution_count": 17,
   "id": "e81acf96-3f81-4631-b129-5e106be59128",
   "metadata": {},
   "outputs": [
    {
     "ename": "NameError",
     "evalue": "name 'df_latest' is not defined",
     "output_type": "error",
     "traceback": [
      "\u001b[1;31m---------------------------------------------------------------------------\u001b[0m",
      "\u001b[1;31mNameError\u001b[0m                                 Traceback (most recent call last)",
      "Cell \u001b[1;32mIn[17], line 1\u001b[0m\n\u001b[1;32m----> 1\u001b[0m df_latest\n",
      "\u001b[1;31mNameError\u001b[0m: name 'df_latest' is not defined"
     ]
    }
   ],
   "source": [
    "df_latest"
   ]
  },
  {
   "cell_type": "code",
   "execution_count": null,
   "id": "a562615c-62a7-427f-a90f-8038e47a8e71",
   "metadata": {},
   "outputs": [],
   "source": []
  }
 ],
 "metadata": {
  "kernelspec": {
   "display_name": "Python [conda env:base] *",
   "language": "python",
   "name": "conda-base-py"
  },
  "language_info": {
   "codemirror_mode": {
    "name": "ipython",
    "version": 3
   },
   "file_extension": ".py",
   "mimetype": "text/x-python",
   "name": "python",
   "nbconvert_exporter": "python",
   "pygments_lexer": "ipython3",
   "version": "3.12.7"
  }
 },
 "nbformat": 4,
 "nbformat_minor": 5
}
